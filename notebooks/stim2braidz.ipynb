{
 "cells": [
  {
   "cell_type": "code",
   "execution_count": 2,
   "metadata": {},
   "outputs": [],
   "source": [
    "from flyanalysis.braidz import read_braidz\n",
    "from glob import glob\n",
    "from matplotlib import pyplot as plt\n",
    "import numpy as np\n",
    "from scipy.stats import circmean, circstd\n",
    "import os\n",
    "import pandas as pd\n",
    "from natsort import natsorted"
   ]
  },
  {
   "cell_type": "markdown",
   "metadata": {},
   "source": [
    "### Braidz tracking to stimuli position"
   ]
  },
  {
   "cell_type": "code",
   "execution_count": 3,
   "metadata": {},
   "outputs": [
    {
     "name": "stdout",
     "output_type": "stream",
     "text": [
      "['/home/buchsbaum/mnt/md0/Videos/calibration/stimuli_position_calibration/pos_30.braidz', '/home/buchsbaum/mnt/md0/Videos/calibration/stimuli_position_calibration/pos_94.braidz', '/home/buchsbaum/mnt/md0/Videos/calibration/stimuli_position_calibration/pos_158.braidz', '/home/buchsbaum/mnt/md0/Videos/calibration/stimuli_position_calibration/pos_222.braidz', '/home/buchsbaum/mnt/md0/Videos/calibration/stimuli_position_calibration/pos_286.braidz', '/home/buchsbaum/mnt/md0/Videos/calibration/stimuli_position_calibration/pos_350.braidz', '/home/buchsbaum/mnt/md0/Videos/calibration/stimuli_position_calibration/pos_414.braidz', '/home/buchsbaum/mnt/md0/Videos/calibration/stimuli_position_calibration/pos_478.braidz', '/home/buchsbaum/mnt/md0/Videos/calibration/stimuli_position_calibration/pos_542.braidz', '/home/buchsbaum/mnt/md0/Videos/calibration/stimuli_position_calibration/pos_606.braidz']\n"
     ]
    }
   ],
   "source": [
    "files = natsorted(\n",
    "    glob(\n",
    "        \"/home/buchsbaum/mnt/md0/Videos/calibration/stimuli_position_calibration/*.braidz\"\n",
    "    )\n",
    ")\n",
    "print(files)"
   ]
  },
  {
   "cell_type": "code",
   "execution_count": 4,
   "metadata": {},
   "outputs": [
    {
     "name": "stdout",
     "output_type": "stream",
     "text": [
      "Reading /home/buchsbaum/mnt/md0/Videos/calibration/stimuli_position_calibration/pos_30.braidz using pyarrow\n",
      "Reading /home/buchsbaum/mnt/md0/Videos/calibration/stimuli_position_calibration/pos_94.braidz using pyarrow\n",
      "Reading /home/buchsbaum/mnt/md0/Videos/calibration/stimuli_position_calibration/pos_158.braidz using pyarrow\n",
      "Reading /home/buchsbaum/mnt/md0/Videos/calibration/stimuli_position_calibration/pos_222.braidz using pyarrow\n",
      "Reading /home/buchsbaum/mnt/md0/Videos/calibration/stimuli_position_calibration/pos_286.braidz using pyarrow\n",
      "Reading /home/buchsbaum/mnt/md0/Videos/calibration/stimuli_position_calibration/pos_350.braidz using pyarrow\n",
      "Reading /home/buchsbaum/mnt/md0/Videos/calibration/stimuli_position_calibration/pos_414.braidz using pyarrow\n",
      "Reading /home/buchsbaum/mnt/md0/Videos/calibration/stimuli_position_calibration/pos_478.braidz using pyarrow\n",
      "Reading /home/buchsbaum/mnt/md0/Videos/calibration/stimuli_position_calibration/pos_542.braidz using pyarrow\n",
      "Reading /home/buchsbaum/mnt/md0/Videos/calibration/stimuli_position_calibration/pos_606.braidz using pyarrow\n"
     ]
    }
   ],
   "source": [
    "calibration = {\"pos\": [], \"direction\": []}\n",
    "\n",
    "for file in files:\n",
    "    pos = int(os.path.basename(file).split(\"_\")[1].split(\".\")[0])\n",
    "    df, csvs = read_braidz(file)\n",
    "\n",
    "    radius = np.sqrt(df[\"x\"].values ** 2 + df[\"y\"].values ** 2)\n",
    "    max_radius_point = df.iloc[np.argmax(radius)]\n",
    "    max_radius_direction = np.arctan2(max_radius_point[\"y\"], max_radius_point[\"x\"])\n",
    "\n",
    "    calibration[\"pos\"].append(pos)\n",
    "    calibration[\"direction\"].append(max_radius_direction)\n",
    "\n",
    "pd.DataFrame(calibration).to_csv(\"stim2braidz.csv\")"
   ]
  },
  {
   "cell_type": "code",
   "execution_count": 5,
   "metadata": {},
   "outputs": [
    {
     "data": {
      "image/png": "[encoded data removed]",
      "text/plain": [
       "<Figure size 640x480 with 1 Axes>"
      ]
     },
     "metadata": {},
     "output_type": "display_data"
    }
   ],
   "source": [
    "fig = plt.figure()\n",
    "plt.plot(calibration[\"pos\"], calibration[\"direction\"])\n",
    "plt.show()"
   ]
  },
  {
   "cell_type": "markdown",
   "metadata": {},
   "source": [
    "### Camera videos to stim position"
   ]
  },
  {
   "cell_type": "code",
   "execution_count": 6,
   "metadata": {},
   "outputs": [],
   "source": [
    "import cv2"
   ]
  },
  {
   "cell_type": "code",
   "execution_count": 8,
   "metadata": {},
   "outputs": [
    {
     "ename": "error",
     "evalue": "OpenCV(4.10.0) /io/opencv/modules/imgproc/src/contours_new.cpp:327: error: (-2:Unspecified error) in function 'static std::shared_ptr<ContourScanner_> ContourScanner_::create(cv::Mat, int, int, cv::Point)'\n> Modes other than RETR_FLOODFILL and RETR_CCOMP support only CV_8UC1 images (expected: 'img.type() == CV_8UC1'), where\n>     'img.type()' is 6 (CV_64FC1)\n> must be equal to\n>     'CV_8UC1' is 0 (CV_8UC1)\n",
     "output_type": "error",
     "traceback": [
      "\u001b[0;31m---------------------------------------------------------------------------\u001b[0m",
      "\u001b[0;31merror\u001b[0m                                     Traceback (most recent call last)",
      "Cell \u001b[0;32mIn[8], line 17\u001b[0m\n\u001b[1;32m     15\u001b[0m gray \u001b[38;5;241m=\u001b[39m cv2\u001b[38;5;241m.\u001b[39mcvtColor(frame, cv2\u001b[38;5;241m.\u001b[39mCOLOR_BGR2GRAY)\n\u001b[1;32m     16\u001b[0m thresh \u001b[38;5;241m=\u001b[39m cv2\u001b[38;5;241m.\u001b[39mthreshold(gray, \u001b[38;5;241m100\u001b[39m, \u001b[38;5;241m255\u001b[39m, cv2\u001b[38;5;241m.\u001b[39mTHRESH_BINARY_INV)[\u001b[38;5;241m0\u001b[39m]\n\u001b[0;32m---> 17\u001b[0m contours, _ \u001b[38;5;241m=\u001b[39m cv2\u001b[38;5;241m.\u001b[39mfindContours(thresh, cv2\u001b[38;5;241m.\u001b[39mRETR_EXTERNAL, cv2\u001b[38;5;241m.\u001b[39mCHAIN_APPROX_SIMPLE)\n\u001b[1;32m     18\u001b[0m \u001b[38;5;28;01mif\u001b[39;00m \u001b[38;5;28mlen\u001b[39m(contours) \u001b[38;5;241m>\u001b[39m \u001b[38;5;241m0\u001b[39m:\n\u001b[1;32m     19\u001b[0m     max_contour \u001b[38;5;241m=\u001b[39m \u001b[38;5;28mmax\u001b[39m(contours, key\u001b[38;5;241m=\u001b[39mcv2\u001b[38;5;241m.\u001b[39mcontourArea)\n",
      "\u001b[0;31merror\u001b[0m: OpenCV(4.10.0) /io/opencv/modules/imgproc/src/contours_new.cpp:327: error: (-2:Unspecified error) in function 'static std::shared_ptr<ContourScanner_> ContourScanner_::create(cv::Mat, int, int, cv::Point)'\n> Modes other than RETR_FLOODFILL and RETR_CCOMP support only CV_8UC1 images (expected: 'img.type() == CV_8UC1'), where\n>     'img.type()' is 6 (CV_64FC1)\n> must be equal to\n>     'CV_8UC1' is 0 (CV_8UC1)\n"
     ]
    }
   ],
   "source": [
    "video_files = natsorted(\n",
    "    glob(\n",
    "        \"/home/buchsbaum/mnt/md0/Videos/calibration/20230626_pixel_to_direction_calibration_/*.mp4\"\n",
    "    )\n",
    ")\n",
    "data_dict = {}\n",
    "\n",
    "for vf in video_files:\n",
    "    data_dict[os.path.basename(vf)] = {\"x\": [], \"y\": []}\n",
    "\n",
    "    cap = cv2.VideoCapture(vf)\n",
    "    xs = []\n",
    "    ys = []\n",
    "    while True:\n",
    "        ret, frame = cap.read()\n",
    "        if not ret:\n",
    "            break\n",
    "        gray = cv2.cvtColor(frame, cv2.COLOR_BGR2GRAY)\n",
    "        thresh = cv2.threshold(gray, 0, 255, cv2.THRESH_BINARY)[1]\n",
    "        contours, _ = cv2.findContours(\n",
    "            thresh, cv2.RETR_EXTERNAL, cv2.CHAIN_APPROX_SIMPLE\n",
    "        )\n",
    "        if len(contours) > 0:\n",
    "            max_contour = max(contours, key=cv2.contourArea)\n",
    "            # extract center of contour\n",
    "            M = cv2.moments(max_contour)\n",
    "            if M[\"m00\"] != 0:\n",
    "                cx = int(M[\"m10\"] / M[\"m00\"])\n",
    "                cy = int(M[\"m01\"] / M[\"m00\"])\n",
    "            else:\n",
    "                cx, cy = np.nan, np.nan\n",
    "        else:\n",
    "            cx, cy = np.nan, np.nan\n",
    "\n",
    "        xs.append(cx)\n",
    "        ys.append(cy)\n",
    "\n",
    "    data_dict[os.path.basename(vf)][\"x\"] = xs\n",
    "    data_dict[os.path.basename(vf)][\"y\"] = ys\n"
   ]
  },
  {
   "cell_type": "code",
   "execution_count": null,
   "metadata": {},
   "outputs": [],
   "source": []
  }
 ],
 "metadata": {
  "kernelspec": {
   "display_name": "flyanalysis-env",
   "language": "python",
   "name": "python3"
  },
  "language_info": {
   "codemirror_mode": {
    "name": "ipython",
    "version": 3
   },
   "file_extension": ".py",
   "mimetype": "text/x-python",
   "name": "python",
   "nbconvert_exporter": "python",
   "pygments_lexer": "ipython3",
   "version": "3.11.0"
  }
 },
 "nbformat": 4,
 "nbformat_minor": 2
}
