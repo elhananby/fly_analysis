{
 "cells": [
  {
   "cell_type": "code",
   "execution_count": 8,
   "metadata": {},
   "outputs": [],
   "source": [
    "from flyanalysis import video\n",
    "import os\n",
    "import glob\n",
    "import tqdm\n",
    "import csv"
   ]
  },
  {
   "cell_type": "code",
   "execution_count": 7,
   "metadata": {},
   "outputs": [
    {
     "name": "stdout",
     "output_type": "stream",
     "text": [
      "Detected 450 video files\n"
     ]
    }
   ],
   "source": [
    "root_folder = \"/home/buchsbaum/mnt/md0/Videos/\"\n",
    "exp_folder = \"20230519_130210\"\n",
    "\n",
    "video_files = glob.glob(os.path.join(root_folder, exp_folder, \"*.mp4\"))\n",
    "print(f\"Detected {len(video_files)} video files\")"
   ]
  },
  {
   "cell_type": "code",
   "execution_count": null,
   "metadata": {},
   "outputs": [],
   "source": [
    "for vf in tqdm(video_files):\n",
    "    output_filename = vf.replace(\".mp4\", \".csv\")\n",
    "    with open(output_filename, \"w\") as f:\n",
    "        writer = csv.writer(f)\n",
    "        writer.writerow([\"x\", \"y\", \"z\", \"xvel\", \"yvel\", \"zvel\"])\n",
    "        for i, frame in enumerate(video.read_video(vf)):\n",
    "            gray = video.gray(frame)\n",
    "            thresh = video.threshold(gray)\n",
    "            contours = video.find_contours(thresh)\n",
    "            contour = video.get_largest_contour(contours)\n",
    "            contour_params = video.get_contour_parameters(contour)\n"
   ]
  }
 ],
 "metadata": {
  "kernelspec": {
   "display_name": "flyanalysis-env",
   "language": "python",
   "name": "python3"
  },
  "language_info": {
   "codemirror_mode": {
    "name": "ipython",
    "version": 3
   },
   "file_extension": ".py",
   "mimetype": "text/x-python",
   "name": "python",
   "nbconvert_exporter": "python",
   "pygments_lexer": "ipython3",
   "version": "3.11.0"
  }
 },
 "nbformat": 4,
 "nbformat_minor": 2
}
