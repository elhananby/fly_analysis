{
 "cells": [
  {
   "cell_type": "code",
   "execution_count": 5,
   "metadata": {},
   "outputs": [],
   "source": [
    "import numpy as np\n",
    "import cv2\n",
    "import pandas as pd\n",
    "import glob\n",
    "from natsort import natsorted\n",
    "import h5py"
   ]
  },
  {
   "cell_type": "code",
   "execution_count": 3,
   "metadata": {},
   "outputs": [
    {
     "data": {
      "text/plain": [
       "['/home/buchsbaum/Desktop/sleap_project/videos/obj_id_4825_frame_3688403.mp4',\n",
       " '/home/buchsbaum/Desktop/sleap_project/videos/obj_id_5368_frame_4139509.mp4',\n",
       " '/home/buchsbaum/Desktop/sleap_project/videos/obj_id_6808_frame_5144426.mp4',\n",
       " '/home/buchsbaum/Desktop/sleap_project/videos/obj_id_10827_frame_7042648.mp4',\n",
       " '/home/buchsbaum/Desktop/sleap_project/videos/obj_id_10950_frame_7119316.mp4']"
      ]
     },
     "execution_count": 3,
     "metadata": {},
     "output_type": "execute_result"
    }
   ],
   "source": [
    "video_files = natsorted(glob.glob(\"/home/buchsbaum/Desktop/sleap_project/videos/*.mp4\"))\n",
    "video_files"
   ]
  },
  {
   "cell_type": "code",
   "execution_count": 8,
   "metadata": {},
   "outputs": [
    {
     "data": {
      "text/plain": [
       "['/home/buchsbaum/Desktop/sleap_project/labels.v001.000_obj_id_4825_frame_3688403.analysis.csv',\n",
       " '/home/buchsbaum/Desktop/sleap_project/labels.v001.001_obj_id_5368_frame_4139509.analysis.csv',\n",
       " '/home/buchsbaum/Desktop/sleap_project/labels.v001.002_obj_id_6808_frame_5144426.analysis.csv',\n",
       " '/home/buchsbaum/Desktop/sleap_project/labels.v001.003_obj_id_10827_frame_7042648.analysis.csv',\n",
       " '/home/buchsbaum/Desktop/sleap_project/labels.v001.004_obj_id_10950_frame_7119316.analysis.csv']"
      ]
     },
     "execution_count": 8,
     "metadata": {},
     "output_type": "execute_result"
    }
   ],
   "source": [
    "csv_files = natsorted(glob.glob(\"/home/buchsbaum/Desktop/sleap_project/*.csv\"))\n",
    "csv_files"
   ]
  },
  {
   "cell_type": "code",
   "execution_count": 10,
   "metadata": {},
   "outputs": [
    {
     "name": "stdout",
     "output_type": "stream",
     "text": [
      "     track  frame_idx  instance.score       head.x       head.y  head.score  \\\n",
      "0      NaN        123        0.254554  1986.750000  1789.089355    0.738194   \n",
      "1      NaN        124        0.571265  1979.365601  1780.481201    0.926011   \n",
      "2      NaN        125        0.765841  1972.392822  1775.902222    0.969956   \n",
      "3      NaN        126        0.917128  1964.559326  1768.740967    0.987225   \n",
      "4      NaN        127        0.939469  1957.095215  1764.375977    0.974601   \n",
      "..     ...        ...             ...          ...          ...         ...   \n",
      "252    NaN        375             NaN  1999.613203  1435.067492         NaN   \n",
      "253    NaN        376        0.936661  2008.776123  1440.609131    0.941548   \n",
      "254    NaN        377        0.867504  2020.276123  1447.589478    0.951197   \n",
      "255    NaN        378        0.697622  2028.440430  1451.982300    0.906277   \n",
      "256    NaN        379        0.317159  2033.122314  1456.510986    0.891481   \n",
      "\n",
      "          neck.x       neck.y  neck.score    abdomen.x    abdomen.y  \\\n",
      "0    2002.681885  1800.709106    0.817782  2022.937256  1816.344360   \n",
      "1    1995.494873  1795.604980    0.931724  2023.864990  1808.399658   \n",
      "2    1988.330322  1788.114502    0.992617  2019.752808  1804.632935   \n",
      "3    1980.487793  1780.530151    1.008144  2009.006104  1800.645020   \n",
      "4    1973.248901  1773.092773    1.007609  2004.842896  1796.717896   \n",
      "..           ...          ...         ...          ...          ...   \n",
      "252  1979.916896  1434.608258         NaN  1937.767170  1433.075322   \n",
      "253  1991.771729  1440.582031    0.993418  1948.363281  1440.491821   \n",
      "254  2000.335083  1447.487793    0.954560  1957.116577  1448.140015   \n",
      "255  2008.826050  1451.972290    0.835317  1968.544434  1452.302612   \n",
      "256  2016.317871  1456.430542    0.954755  1976.845459  1455.971313   \n",
      "\n",
      "     abdomen.score  \n",
      "0         0.569969  \n",
      "1         0.813208  \n",
      "2         0.772018  \n",
      "3         0.903798  \n",
      "4         1.033656  \n",
      "..             ...  \n",
      "252            NaN  \n",
      "253       0.982632  \n",
      "254       0.978885  \n",
      "255       0.975211  \n",
      "256       0.840887  \n",
      "\n",
      "[257 rows x 12 columns]\n"
     ]
    }
   ],
   "source": [
    "for video, csv in zip(video_files, csv_files):\n",
    "    tracking = pd.read_csv(csv)\n",
    "\n",
    "    cap = cv2.VideoCapture(video)\n",
    "    width = int(cap.get(3))\n",
    "    height = int(cap.get(4))\n",
    "    fps = int(cap.get(5))\n",
    "    frames = int(cap.get(7))\n",
    "\n",
    "    output_filename = video[:-4] + \"_tracked.mp4\"\n",
    "    fourcc = cv2.VideoWriter_fourcc(*'H264')\n",
    "    out = cv2.VideoWriter(output_filename, fourcc, fps, (width, height))\n",
    "\n",
    "    while True:\n",
    "        ret, frame = cap.read()\n",
    "        if not ret:\n",
    "            break\n"
   ]
  },
  {
   "cell_type": "code",
   "execution_count": null,
   "metadata": {},
   "outputs": [],
   "source": []
  }
 ],
 "metadata": {
  "kernelspec": {
   "display_name": "flyanalysis-env",
   "language": "python",
   "name": "python3"
  },
  "language_info": {
   "codemirror_mode": {
    "name": "ipython",
    "version": 3
   },
   "file_extension": ".py",
   "mimetype": "text/x-python",
   "name": "python",
   "nbconvert_exporter": "python",
   "pygments_lexer": "ipython3",
   "version": "3.12.5"
  }
 },
 "nbformat": 4,
 "nbformat_minor": 2
}
