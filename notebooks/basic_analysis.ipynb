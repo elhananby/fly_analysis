{
 "cells": [
  {
   "cell_type": "code",
   "execution_count": 1,
   "metadata": {},
   "outputs": [],
   "source": [
    "from flyanalysis import braidz\n",
    "import pandas as pd\n",
    "import numpy as np\n",
    "import os"
   ]
  },
  {
   "cell_type": "code",
   "execution_count": 8,
   "metadata": {},
   "outputs": [],
   "source": [
    "from flyanalysis import trajectory\n",
    "from typing import Optional\n",
    "\n",
    "\n",
    "def extract_stimulus_centered_data(\n",
    "    df: pd.DataFrame,\n",
    "    csv: pd.DataFrame,\n",
    "    n_before: int = 50,\n",
    "    n_after: int = 100,\n",
    "    columns: list = [\"angular_velocity\", \"linear_velocity\", \"position\"],\n",
    "    padding: Optional[int] = None,\n",
    "):\n",
    "    data_dict = {}\n",
    "    for col in columns:\n",
    "        data_dict[col] = []\n",
    "\n",
    "    def get_segment_with_padding(data, before_overflow, after_overflow, is_2d=False):\n",
    "        if padding:\n",
    "            if is_2d:\n",
    "                return np.pad(\n",
    "                    data,\n",
    "                    ((before_overflow, after_overflow), (0, 0)),\n",
    "                    constant_values=np.nan,\n",
    "                )\n",
    "            else:\n",
    "                return np.pad(\n",
    "                    data, (before_overflow, after_overflow), constant_values=np.nan\n",
    "                )\n",
    "        return data\n",
    "\n",
    "    for idx, row in csv.iterrows():\n",
    "        # extract identifier and frame number\n",
    "        obj_id = int(row[\"obj_id\"])\n",
    "        frame = int(row[\"frame\"])\n",
    "\n",
    "        # filter dataframe based on identifier\n",
    "        grp = df[df.obj_id == obj_id]\n",
    "\n",
    "        # skip if length is less than 150\n",
    "        if len(grp) < 150:\n",
    "            continue\n",
    "\n",
    "        # find index of stimulus in main df\n",
    "        try:\n",
    "            stim_idx = np.where(grp.frame == frame)[0][0]\n",
    "        except IndexError:\n",
    "            continue\n",
    "\n",
    "        # set indices and check boundaries\n",
    "        idx_before = stim_idx - n_before\n",
    "        idx_after = stim_idx + n_after\n",
    "\n",
    "        # Calculate overflow and adjust indices\n",
    "        before_overflow = max(0, -idx_before)\n",
    "        after_overflow = max(0, idx_after - len(grp) + 1)\n",
    "\n",
    "        # Check if overflow exceeds padding\n",
    "        if (padding is not None) and (\n",
    "            before_overflow > padding or after_overflow > padding\n",
    "        ):\n",
    "            continue\n",
    "\n",
    "        # Adjust indices to within valid range\n",
    "        valid_idx_before = max(0, idx_before)\n",
    "        valid_idx_after = min(len(grp), idx_after + 1)\n",
    "\n",
    "        # Get data and apply padding if necessary\n",
    "        for col in columns:\n",
    "            if col == \"angular_velocity\":\n",
    "                angvel = trajectory.get_angular_velocity(grp)\n",
    "                segment = angvel[valid_idx_before:valid_idx_after]\n",
    "                padded_segment = get_segment_with_padding(\n",
    "                    segment, before_overflow, after_overflow\n",
    "                )\n",
    "                data_dict[col].append(padded_segment)\n",
    "\n",
    "            elif col == \"linear_velocity\":\n",
    "                linvel = trajectory.get_linear_velocity(grp)\n",
    "                segment = linvel[valid_idx_before:valid_idx_after]\n",
    "                padded_segment = get_segment_with_padding(\n",
    "                    segment, before_overflow, after_overflow\n",
    "                )\n",
    "                data_dict[col].append(padded_segment)\n",
    "\n",
    "            elif col == \"position\":\n",
    "                position_segment = (\n",
    "                    grp[[\"x\", \"y\", \"z\"]].iloc[valid_idx_before:valid_idx_after].values\n",
    "                )\n",
    "                padded_segment = get_segment_with_padding(\n",
    "                    position_segment, before_overflow, after_overflow, is_2d=True\n",
    "                )\n",
    "                data_dict[col].append(padded_segment)\n",
    "\n",
    "            else:\n",
    "                print(f\"Column {col} not found\")\n",
    "\n",
    "    return data_dict"
   ]
  },
  {
   "cell_type": "code",
   "execution_count": 3,
   "metadata": {},
   "outputs": [],
   "source": [
    "root_folder = \"/home/buchsbaum/mnt/md0/Experiments/\"\n",
    "wtcs_file = \"20230206_141606.braidz\"\n",
    "filepath = os.path.join(root_folder, wtcs_file)"
   ]
  },
  {
   "cell_type": "code",
   "execution_count": 4,
   "metadata": {},
   "outputs": [
    {
     "name": "stdout",
     "output_type": "stream",
     "text": [
      "Reading /home/buchsbaum/mnt/md0/Experiments/20230206_141606.braidz using pyarrow\n"
     ]
    }
   ],
   "source": [
    "df, csvs = braidz.read_braidz(filepath)"
   ]
  },
  {
   "cell_type": "code",
   "execution_count": 10,
   "metadata": {},
   "outputs": [],
   "source": [
    "wtcs_data = extract_stimulus_centered_data(df, csvs[\"stim\"], max_overflow=10)"
   ]
  },
  {
   "cell_type": "code",
   "execution_count": null,
   "metadata": {},
   "outputs": [],
   "source": []
  }
 ],
 "metadata": {
  "kernelspec": {
   "display_name": "flyanalysis-env",
   "language": "python",
   "name": "python3"
  },
  "language_info": {
   "codemirror_mode": {
    "name": "ipython",
    "version": 3
   },
   "file_extension": ".py",
   "mimetype": "text/x-python",
   "name": "python",
   "nbconvert_exporter": "python",
   "pygments_lexer": "ipython3",
   "version": "3.11.0"
  }
 },
 "nbformat": 4,
 "nbformat_minor": 2
}
