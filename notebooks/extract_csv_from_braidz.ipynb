{
 "cells": [
  {
   "cell_type": "code",
   "execution_count": 1,
   "metadata": {},
   "outputs": [],
   "source": [
    "from flyanalysis.braidz import read_braidz"
   ]
  },
  {
   "cell_type": "code",
   "execution_count": 2,
   "metadata": {},
   "outputs": [
    {
     "name": "stdout",
     "output_type": "stream",
     "text": [
      "Reading /home/buchsbaum/mnt/nfc3008/md0/Experiments/20230626_161309.braidz using pyarrow\n",
      "Reading /home/buchsbaum/mnt/nfc3008/md0/Experiments/20230714_151827.braidz using pyarrow\n"
     ]
    }
   ],
   "source": [
    "braidz_files = [\"20230626_161309\", \"20230714_151827\", \"20230801_134131\"]\n",
    "\n",
    "for file in braidz_files:\n",
    "    fullpath = \"/home/buchsbaum/mnt/nfc3008/md0/Experiments/\" + file + \".braidz\"\n",
    "\n",
    "    df, csvs = read_braidz(fullpath)\n",
    "\n",
    "    # save csvs[\"stim\"] to file\n",
    "    csvs[\"stim\"].to_csv(file + \".csv\")"
   ]
  },
  {
   "cell_type": "code",
   "execution_count": null,
   "metadata": {},
   "outputs": [],
   "source": []
  }
 ],
 "metadata": {
  "kernelspec": {
   "display_name": "fly-video-filtering-env",
   "language": "python",
   "name": "python3"
  },
  "language_info": {
   "codemirror_mode": {
    "name": "ipython",
    "version": 3
   },
   "file_extension": ".py",
   "mimetype": "text/x-python",
   "name": "python",
   "nbconvert_exporter": "python",
   "pygments_lexer": "ipython3",
   "version": "3.12.4"
  }
 },
 "nbformat": 4,
 "nbformat_minor": 2
}
