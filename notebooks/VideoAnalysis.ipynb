{
 "cells": [
  {
   "cell_type": "code",
   "execution_count": null,
   "metadata": {},
   "outputs": [],
   "source": [
    "import numpy as np\n",
    "import cv2\n",
    "from glob import glob\n",
    "import os\n",
    "from natsort import natsorted\n",
    "import matplotlib.pyplot as plt\n",
    "import fly_analysis as fa\n",
    "from scipy.signal import savgol_filter"
   ]
  },
  {
   "cell_type": "code",
   "execution_count": null,
   "metadata": {},
   "outputs": [],
   "source": [
    "videos_folder = \"/home/buchsbaum/mnt/md0/Videos/20230801_134131/\"\n",
    "video_files = natsorted(glob(os.path.join(videos_folder, \"*.mp4\")))"
   ]
  },
  {
   "cell_type": "code",
   "execution_count": null,
   "metadata": {},
   "outputs": [],
   "source": [
    "def process_video(video_path):\n",
    "    # Open the video file\n",
    "    cap = cv2.VideoCapture(video_path)\n",
    "    \n",
    "    # Get total number of frames\n",
    "    total_frames = int(cap.get(cv2.CAP_PROP_FRAME_COUNT))\n",
    "    \n",
    "    # Initialize numpy array with NaN values\n",
    "    results = np.full((total_frames, 4), np.nan)\n",
    "    # Fill the first column with frame numbers\n",
    "    results[:, 0] = np.arange(total_frames)\n",
    "    \n",
    "    frame_number = 0\n",
    "    \n",
    "    while cap.isOpened():\n",
    "        ret, frame = cap.read()\n",
    "        if not ret:\n",
    "            break\n",
    "        \n",
    "        # Convert to grayscale\n",
    "        gray = cv2.cvtColor(frame, cv2.COLOR_BGR2GRAY)\n",
    "        \n",
    "        # Apply threshold\n",
    "        _, thresh = cv2.threshold(gray, 100, 255, cv2.THRESH_BINARY_INV)\n",
    "        \n",
    "        # Find contours\n",
    "        contours, _ = cv2.findContours(thresh, cv2.RETR_EXTERNAL, cv2.CHAIN_APPROX_SIMPLE)\n",
    "        \n",
    "        if contours:\n",
    "            # Get the largest contour\n",
    "            largest_contour = max(contours, key=cv2.contourArea)\n",
    "            \n",
    "            # Try to fit an ellipse\n",
    "            if len(largest_contour) >= 5:  # Need at least 5 points to fit an ellipse\n",
    "                ellipse = cv2.fitEllipse(largest_contour)\n",
    "                \n",
    "                # Extract information\n",
    "                (x, y), (MA, ma), angle = ellipse\n",
    "                \n",
    "                # Update the corresponding row in results\n",
    "                results[frame_number, 1:] = [x, y, angle]\n",
    "        \n",
    "        frame_number += 1\n",
    "    \n",
    "    # Release the video capture object\n",
    "    cap.release()\n",
    "    \n",
    "    return results"
   ]
  },
  {
   "cell_type": "code",
   "execution_count": null,
   "metadata": {},
   "outputs": [],
   "source": [
    "for video in video_files:\n",
    "    results = process_video(video)\n",
    "    np.savetxt(video + \".txt\", results, fmt=\"%.6f\")\n",
    "    print(f\"Processed {video}\")"
   ]
  },
  {
   "cell_type": "code",
   "execution_count": null,
   "metadata": {},
   "outputs": [],
   "source": [
    "x = savgol_filter(result_array[:,1], 21, 3)\n",
    "y = savgol_filter(result_array[:,2], 21, 3)\n",
    "angle = savgol_filter(result_array[:,3], 21, 3)\n",
    "\n",
    "xvel = np.gradient(x, 1/500)\n",
    "yvel = np.gradient(y, 1/500)\n",
    "\n",
    "theta = np.arctan2(yvel, xvel)\n",
    "theta_u = fa.helpers.unwrap_ignore_nan(theta)\n",
    "angular_velocity = np.gradient(theta_u, 1/500)\n",
    "angular_velocity_deg = np.rad2deg(angular_velocity)"
   ]
  },
  {
   "cell_type": "code",
   "execution_count": null,
   "metadata": {},
   "outputs": [],
   "source": [
    "fig, axs = plt.subplots(ncols=3, nrows=1, figsize=(15,5))\n",
    "axs[0].plot(x, y)\n",
    "axs[1].plot(angle)\n",
    "axs[2].plot(angular_velocity_deg)\n",
    "plt.show()"
   ]
  },
  {
   "cell_type": "code",
   "execution_count": null,
   "metadata": {},
   "outputs": [],
   "source": []
  }
 ],
 "metadata": {
  "kernelspec": {
   "display_name": "flyanalysis-env",
   "language": "python",
   "name": "python3"
  },
  "language_info": {
   "codemirror_mode": {
    "name": "ipython",
    "version": 3
   },
   "file_extension": ".py",
   "mimetype": "text/x-python",
   "name": "python",
   "nbconvert_exporter": "python",
   "pygments_lexer": "ipython3",
   "version": "3.12.5"
  }
 },
 "nbformat": 4,
 "nbformat_minor": 2
}
