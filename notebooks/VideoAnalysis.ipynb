{
 "cells": [
  {
   "cell_type": "code",
   "execution_count": 15,
   "metadata": {},
   "outputs": [],
   "source": [
    "import numpy as np\n",
    "import cv2\n",
    "from glob import glob\n",
    "import os\n",
    "from natsort import natsorted\n",
    "import matplotlib.pyplot as plt\n",
    "import fly_analysis as fa\n",
    "from scipy.signal import savgol_filter\n",
    "from tqdm import tqdm\n",
    "import pandas as pd"
   ]
  },
  {
   "cell_type": "code",
   "execution_count": 22,
   "metadata": {},
   "outputs": [],
   "source": [
    "dt = 1/500\n",
    "videos_folder = \"/home/buchsbaum/Videos/20230801_134131/\"\n",
    "video_files = natsorted(glob(os.path.join(videos_folder, \"*.mp4\")))"
   ]
  },
  {
   "cell_type": "code",
   "execution_count": 10,
   "metadata": {},
   "outputs": [],
   "source": [
    "def process_video(video_path):\n",
    "    # Open the video file\n",
    "    cap = cv2.VideoCapture(video_path)\n",
    "    \n",
    "    # Get total number of frames\n",
    "    total_frames = int(cap.get(cv2.CAP_PROP_FRAME_COUNT))\n",
    "    \n",
    "    # Initialize numpy array with NaN values\n",
    "    results = np.full((total_frames, 4), np.nan)\n",
    "    # Fill the first column with frame numbers\n",
    "    results[:, 0] = np.arange(total_frames)\n",
    "    \n",
    "    frame_number = 0\n",
    "    \n",
    "    while cap.isOpened():\n",
    "        ret, frame = cap.read()\n",
    "        if not ret:\n",
    "            break\n",
    "        \n",
    "        # Convert to grayscale\n",
    "        gray = cv2.cvtColor(frame, cv2.COLOR_BGR2GRAY)\n",
    "        \n",
    "        # Apply threshold\n",
    "        _, thresh = cv2.threshold(gray, 100, 255, cv2.THRESH_BINARY_INV)\n",
    "        \n",
    "        # Find contours\n",
    "        contours, _ = cv2.findContours(thresh, cv2.RETR_EXTERNAL, cv2.CHAIN_APPROX_SIMPLE)\n",
    "        \n",
    "        if contours:\n",
    "            # Get the largest contour\n",
    "            largest_contour = max(contours, key=cv2.contourArea)\n",
    "            \n",
    "            # Try to fit an ellipse\n",
    "            if len(largest_contour) >= 5:  # Need at least 5 points to fit an ellipse\n",
    "                ellipse = cv2.fitEllipse(largest_contour)\n",
    "                \n",
    "                # Extract information\n",
    "                (x, y), (MA, ma), angle = ellipse\n",
    "                \n",
    "                # Update the corresponding row in results\n",
    "                results[frame_number, 1:] = [x, y, angle]\n",
    "        \n",
    "        frame_number += 1\n",
    "    \n",
    "    # Release the video capture object\n",
    "    cap.release()\n",
    "    \n",
    "    return results"
   ]
  },
  {
   "cell_type": "code",
   "execution_count": 12,
   "metadata": {},
   "outputs": [
    {
     "name": "stderr",
     "output_type": "stream",
     "text": [
      "100%|██████████| 724/724 [17:45<00:00,  1.47s/it]\n"
     ]
    }
   ],
   "source": [
    "for video in tqdm(video_files):\n",
    "    results = process_video(video)\n",
    "    np.savetxt(video + \".csv\", results, delimiter=\",\")\n",
    "    #print(f\"Processed {video}\")"
   ]
  },
  {
   "cell_type": "code",
   "execution_count": 14,
   "metadata": {},
   "outputs": [
    {
     "name": "stdout",
     "output_type": "stream",
     "text": [
      "724\n"
     ]
    }
   ],
   "source": [
    "csv_files = natsorted(glob(os.path.join(videos_folder, \"*.csv\")))\n",
    "print(len(csv_files))"
   ]
  },
  {
   "cell_type": "code",
   "execution_count": 21,
   "metadata": {},
   "outputs": [],
   "source": [
    "def sg_smooth(data, window_length=21, polyorder=3):\n",
    "    return savgol_filter(data, window_length, polyorder)"
   ]
  },
  {
   "cell_type": "code",
   "execution_count": 20,
   "metadata": {},
   "outputs": [
    {
     "name": "stderr",
     "output_type": "stream",
     "text": [
      "  5%|▍         | 34/724 [00:12<04:38,  2.47it/s]/home/buchsbaum/.local/lib/python3.12/site-packages/numpy/lib/_function_base_impl.py:1303: RuntimeWarning: invalid value encountered in subtract\n",
      "  out[tuple(slice1)] = (f[tuple(slice4)] - f[tuple(slice2)]) / (2. * ax_dx)\n",
      " 38%|███▊      | 274/724 [01:32<02:21,  3.18it/s]/home/buchsbaum/.local/lib/python3.12/site-packages/numpy/lib/_function_base_impl.py:1303: RuntimeWarning: invalid value encountered in subtract\n",
      "  out[tuple(slice1)] = (f[tuple(slice4)] - f[tuple(slice2)]) / (2. * ax_dx)\n",
      " 52%|█████▏    | 376/724 [02:05<01:58,  2.95it/s]"
     ]
    }
   ],
   "source": [
    "for csv_file in tqdm(csv_files):\n",
    "    df = pd.read_csv(csv_file, header=None, names=[\"frame\", \"x\", \"y\", \"angle\"])\n",
    "    x, y, angle = sg_smooth(df[\"x\"].values), sg_smooth(df[\"y\"].values), sg_smooth(df[\"angle\"].values)\n",
    "    xvel = np.gradient(x, dt)\n",
    "    yvel = np.gradient(y, dt)\n",
    "    linear_velocity = np.sqrt(xvel**2 + yvel**2)\n",
    "    theta = np.arctan2(yvel, xvel)\n",
    "    theta_u = fa.helpers.unwrap_ignore_nan(theta)\n",
    "    angular_velocity = np.gradient(theta_u, dt)\n",
    "    angular_velocity_degrees = np.rad2deg(angular_velocity)\n",
    "\n",
    "    fig, axs = plt.subplots(ncols=2, nrows=2, figsize=(15, 5))\n",
    "    axs = axs.flatten()\n",
    "\n",
    "    axs[0].plot(x, y)\n",
    "    axs[0].set_title(\"Trajectory\")\n",
    "    axs[0].set_xlabel(\"X (pixels)\")\n",
    "    axs[0].set_ylabel(\"Y (pixels)\")\n",
    "\n",
    "    axs[1].plot(df[\"frame\"], linear_velocity)\n",
    "    axs[1].set_title(\"Linear velocity\")\n",
    "    axs[1].set_xlabel(\"Frame\")\n",
    "    axs[1].set_ylabel(\"Velocity (pixels/s)\")\n",
    "\n",
    "    axs[2].plot(df[\"frame\"], angular_velocity_degrees)\n",
    "    axs[2].set_title(\"Angular velocity\")\n",
    "    axs[2].set_xlabel(\"Frame\")\n",
    "    axs[2].set_ylabel(\"Velocity (degrees/s)\")\n",
    "\n",
    "    axs[3].plot(df[\"frame\"], angle)\n",
    "    axs[3].set_title(\"Angle\")\n",
    "    axs[3].set_xlabel(\"Frame\")\n",
    "    axs[3].set_ylabel(\"Angle (degrees)\")\n",
    "\n",
    "    plt.tight_layout()\n",
    "    plt.savefig(csv_file + \".png\")\n",
    "    plt.close('all')"
   ]
  },
  {
   "cell_type": "code",
   "execution_count": null,
   "metadata": {},
   "outputs": [],
   "source": []
  }
 ],
 "metadata": {
  "kernelspec": {
   "display_name": "flyanalysis-env",
   "language": "python",
   "name": "python3"
  },
  "language_info": {
   "codemirror_mode": {
    "name": "ipython",
    "version": 3
   },
   "file_extension": ".py",
   "mimetype": "text/x-python",
   "name": "python",
   "nbconvert_exporter": "python",
   "pygments_lexer": "ipython3",
   "version": "3.12.5"
  }
 },
 "nbformat": 4,
 "nbformat_minor": 2
}
