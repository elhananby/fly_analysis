{
 "cells": [
  {
   "cell_type": "code",
   "execution_count": 3,
   "metadata": {},
   "outputs": [],
   "source": [
    "import sys\n",
    "import os\n",
    "\n",
    "# Get the absolute path of the repo root directory\n",
    "repo_root = os.path.abspath(os.path.join(os.getcwd(), '..'))\n",
    "\n",
    "# Add the src directory to the Python path\n",
    "src_path = os.path.join(repo_root, 'src')\n",
    "sys.path.append(src_path)"
   ]
  },
  {
   "cell_type": "code",
   "execution_count": 5,
   "metadata": {},
   "outputs": [
    {
     "ename": "ModuleNotFoundError",
     "evalue": "No module named 'flyanalysis'",
     "output_type": "error",
     "traceback": [
      "\u001b[0;31m---------------------------------------------------------------------------\u001b[0m",
      "\u001b[0;31mModuleNotFoundError\u001b[0m                       Traceback (most recent call last)",
      "Cell \u001b[0;32mIn[5], line 1\u001b[0m\n\u001b[0;32m----> 1\u001b[0m \u001b[38;5;28;01mfrom\u001b[39;00m \u001b[38;5;21;01mflyanalysis\u001b[39;00m \u001b[38;5;28;01mimport\u001b[39;00m braidz, filtering, processing\n",
      "\u001b[0;31mModuleNotFoundError\u001b[0m: No module named 'flyanalysis'"
     ]
    }
   ],
   "source": [
    "from fly_analysis import braidz, filtering, processing"
   ]
  },
  {
   "cell_type": "code",
   "execution_count": 2,
   "metadata": {},
   "outputs": [
    {
     "ename": "NameError",
     "evalue": "name 'braidz' is not defined",
     "output_type": "error",
     "traceback": [
      "\u001b[0;31m---------------------------------------------------------------------------\u001b[0m",
      "\u001b[0;31mNameError\u001b[0m                                 Traceback (most recent call last)",
      "Cell \u001b[0;32mIn[2], line 2\u001b[0m\n\u001b[1;32m      1\u001b[0m filename \u001b[38;5;241m=\u001b[39m \u001b[38;5;124m\"\u001b[39m\u001b[38;5;124m/home/buchsbaum/mnt/DATA/Experiments/20240822_105738.braidz\u001b[39m\u001b[38;5;124m\"\u001b[39m\n\u001b[0;32m----> 2\u001b[0m df, csvs \u001b[38;5;241m=\u001b[39m \u001b[43mbraidz\u001b[49m\u001b[38;5;241m.\u001b[39mread_braidz(filename)\n",
      "\u001b[0;31mNameError\u001b[0m: name 'braidz' is not defined"
     ]
    }
   ],
   "source": [
    "filenames = \"/home/buchsbaum/mnt/DATA/Experiments/20240822_105738.braidz\"\n",
    "df, csvs = braidz.read_braidz(filename)"
   ]
  }
 ],
 "metadata": {
  "kernelspec": {
   "display_name": "flyanalysis-env",
   "language": "python",
   "name": "python3"
  },
  "language_info": {
   "codemirror_mode": {
    "name": "ipython",
    "version": 3
   },
   "file_extension": ".py",
   "mimetype": "text/x-python",
   "name": "python",
   "nbconvert_exporter": "python",
   "pygments_lexer": "ipython3",
   "version": "3.12.5"
  }
 },
 "nbformat": 4,
 "nbformat_minor": 2
}
