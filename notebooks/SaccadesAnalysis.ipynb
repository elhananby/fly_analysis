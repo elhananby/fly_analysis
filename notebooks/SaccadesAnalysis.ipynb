{
 "cells": [
  {
   "cell_type": "code",
   "execution_count": 2,
   "metadata": {},
   "outputs": [],
   "source": [
    "import fly_analysis as fa\n",
    "import numpy as np\n",
    "import pandas as pd\n",
    "import matplotlib.pyplot as plt\n",
    "from scipy.signal import savgol_filter, find_peaks"
   ]
  },
  {
   "cell_type": "code",
   "execution_count": 3,
   "metadata": {},
   "outputs": [],
   "source": [
    "def filter_trajecs(\n",
    "    df,\n",
    "    min_length=300,  # 50 frames = 0.5 seconds\n",
    "    max_z_speed=0.3,  # shouldn't be flying up/down a lot\n",
    "    min_speed=0.05,  # should be flying (not wallking)\n",
    "):\n",
    "    selected_obj_ids = []\n",
    "\n",
    "    for obj_id, gdf in df.groupby(\"obj_id\"):\n",
    "        if len(gdf) > min_length:\n",
    "            speed = np.linalg.norm(np.vstack([gdf.zvel, gdf.xvel, gdf.yvel]), axis=0)\n",
    "\n",
    "            if gdf.z.min() > 0.05:  # not on floor\n",
    "                if gdf.z.max() < 0.5:  # not on ceiling\n",
    "                    if np.max(np.abs(gdf.zvel)) < max_z_speed:\n",
    "                        if np.min(speed[5:]) > min_speed:  # first few frames are off\n",
    "                            selected_obj_ids.append(obj_id)\n",
    "\n",
    "    return df.loc[df[\"obj_id\"].isin(selected_obj_ids)]"
   ]
  },
  {
   "cell_type": "code",
   "execution_count": 4,
   "metadata": {},
   "outputs": [],
   "source": [
    "wtcs_files = [\"20240916_115831.braidz\", \"20240917_163455.braidz\"]\n",
    "root_folder = \"/home/buchsbaum/mnt/DATA/Experiments/\""
   ]
  },
  {
   "cell_type": "code",
   "execution_count": 5,
   "metadata": {},
   "outputs": [
    {
     "name": "stdout",
     "output_type": "stream",
     "text": [
      "Reading /home/buchsbaum/mnt/DATA/Experiments/20240916_115831.braidz using pyarrow\n",
      "Reading /home/buchsbaum/mnt/DATA/Experiments/20240917_163455.braidz using pyarrow\n"
     ]
    }
   ],
   "source": [
    "wtcs = fa.braidz.read_multiple_braidz(wtcs_files, root_folder)"
   ]
  },
  {
   "cell_type": "code",
   "execution_count": 9,
   "metadata": {},
   "outputs": [
    {
     "data": {
      "text/plain": [
       "32"
      ]
     },
     "execution_count": 9,
     "metadata": {},
     "output_type": "execute_result"
    }
   ],
   "source": [
    "gdf = filter_trajecs(wtcs[\"df\"])\n",
    "unique_obj_ids = gdf[\"unique_obj_id\"].unique()\n"
   ]
  },
  {
   "cell_type": "code",
   "execution_count": null,
   "metadata": {},
   "outputs": [],
   "source": []
  }
 ],
 "metadata": {
  "kernelspec": {
   "display_name": "flyanalysis-env",
   "language": "python",
   "name": "python3"
  },
  "language_info": {
   "codemirror_mode": {
    "name": "ipython",
    "version": 3
   },
   "file_extension": ".py",
   "mimetype": "text/x-python",
   "name": "python",
   "nbconvert_exporter": "python",
   "pygments_lexer": "ipython3",
   "version": "3.12.5"
  }
 },
 "nbformat": 4,
 "nbformat_minor": 2
}
